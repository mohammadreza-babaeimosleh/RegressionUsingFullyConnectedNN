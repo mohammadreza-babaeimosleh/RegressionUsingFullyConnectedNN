{
 "cells": [
  {
   "cell_type": "code",
   "execution_count": 387,
   "id": "99fda1da-b1e0-4db1-a3cd-6a12c220e3d4",
   "metadata": {},
   "outputs": [],
   "source": [
    "import torch\n",
    "import hiddenlayer as hl\n",
    "\n",
    "import pandas as pd\n",
    "import numpy as np\n",
    "\n",
    "import seaborn as sns\n",
    "import matplotlib.pyplot as plt\n",
    "\n",
    "import sklearn"
   ]
  },
  {
   "cell_type": "code",
   "execution_count": 388,
   "id": "ef1ebc2d-5499-48c5-a294-5a556b9328a1",
   "metadata": {},
   "outputs": [],
   "source": [
    "data = pd.read_csv(\"/mnt/g/onlinelessons/deep learning/dataset/bike-sharing-demand/bike_sharing.csv\", index_col=0)"
   ]
  },
  {
   "cell_type": "code",
   "execution_count": 389,
   "id": "f85762c4-0cc8-4069-94e0-3888de351b57",
   "metadata": {},
   "outputs": [
    {
     "data": {
      "text/html": [
       "<div>\n",
       "<style scoped>\n",
       "    .dataframe tbody tr th:only-of-type {\n",
       "        vertical-align: middle;\n",
       "    }\n",
       "\n",
       "    .dataframe tbody tr th {\n",
       "        vertical-align: top;\n",
       "    }\n",
       "\n",
       "    .dataframe thead th {\n",
       "        text-align: right;\n",
       "    }\n",
       "</style>\n",
       "<table border=\"1\" class=\"dataframe\">\n",
       "  <thead>\n",
       "    <tr style=\"text-align: right;\">\n",
       "      <th></th>\n",
       "      <th>dteday</th>\n",
       "      <th>season</th>\n",
       "      <th>yr</th>\n",
       "      <th>mnth</th>\n",
       "      <th>holiday</th>\n",
       "      <th>weekday</th>\n",
       "      <th>workingday</th>\n",
       "      <th>weathersit</th>\n",
       "      <th>temp</th>\n",
       "      <th>atemp</th>\n",
       "      <th>hum</th>\n",
       "      <th>windspeed</th>\n",
       "      <th>casual</th>\n",
       "      <th>registered</th>\n",
       "      <th>cnt</th>\n",
       "    </tr>\n",
       "    <tr>\n",
       "      <th>instant</th>\n",
       "      <th></th>\n",
       "      <th></th>\n",
       "      <th></th>\n",
       "      <th></th>\n",
       "      <th></th>\n",
       "      <th></th>\n",
       "      <th></th>\n",
       "      <th></th>\n",
       "      <th></th>\n",
       "      <th></th>\n",
       "      <th></th>\n",
       "      <th></th>\n",
       "      <th></th>\n",
       "      <th></th>\n",
       "      <th></th>\n",
       "    </tr>\n",
       "  </thead>\n",
       "  <tbody>\n",
       "    <tr>\n",
       "      <th>459</th>\n",
       "      <td>04-04-2019</td>\n",
       "      <td>2</td>\n",
       "      <td>1</td>\n",
       "      <td>4</td>\n",
       "      <td>0</td>\n",
       "      <td>3</td>\n",
       "      <td>1</td>\n",
       "      <td>1</td>\n",
       "      <td>22.208347</td>\n",
       "      <td>26.67250</td>\n",
       "      <td>46.9583</td>\n",
       "      <td>12.125325</td>\n",
       "      <td>1058</td>\n",
       "      <td>5378</td>\n",
       "      <td>6436</td>\n",
       "    </tr>\n",
       "    <tr>\n",
       "      <th>395</th>\n",
       "      <td>30-01-2019</td>\n",
       "      <td>1</td>\n",
       "      <td>1</td>\n",
       "      <td>1</td>\n",
       "      <td>0</td>\n",
       "      <td>1</td>\n",
       "      <td>1</td>\n",
       "      <td>1</td>\n",
       "      <td>11.035847</td>\n",
       "      <td>13.13125</td>\n",
       "      <td>40.0833</td>\n",
       "      <td>14.458064</td>\n",
       "      <td>126</td>\n",
       "      <td>3498</td>\n",
       "      <td>3624</td>\n",
       "    </tr>\n",
       "    <tr>\n",
       "      <th>366</th>\n",
       "      <td>01-01-2019</td>\n",
       "      <td>1</td>\n",
       "      <td>1</td>\n",
       "      <td>1</td>\n",
       "      <td>0</td>\n",
       "      <td>0</td>\n",
       "      <td>0</td>\n",
       "      <td>1</td>\n",
       "      <td>15.170000</td>\n",
       "      <td>18.78105</td>\n",
       "      <td>69.2500</td>\n",
       "      <td>12.875189</td>\n",
       "      <td>686</td>\n",
       "      <td>1608</td>\n",
       "      <td>2294</td>\n",
       "    </tr>\n",
       "    <tr>\n",
       "      <th>477</th>\n",
       "      <td>22-04-2019</td>\n",
       "      <td>2</td>\n",
       "      <td>1</td>\n",
       "      <td>4</td>\n",
       "      <td>0</td>\n",
       "      <td>0</td>\n",
       "      <td>0</td>\n",
       "      <td>3</td>\n",
       "      <td>16.263347</td>\n",
       "      <td>19.47520</td>\n",
       "      <td>83.5417</td>\n",
       "      <td>23.084582</td>\n",
       "      <td>120</td>\n",
       "      <td>907</td>\n",
       "      <td>1027</td>\n",
       "    </tr>\n",
       "    <tr>\n",
       "      <th>35</th>\n",
       "      <td>04-02-2018</td>\n",
       "      <td>1</td>\n",
       "      <td>0</td>\n",
       "      <td>2</td>\n",
       "      <td>0</td>\n",
       "      <td>5</td>\n",
       "      <td>1</td>\n",
       "      <td>2</td>\n",
       "      <td>8.663464</td>\n",
       "      <td>11.42935</td>\n",
       "      <td>58.5217</td>\n",
       "      <td>8.565213</td>\n",
       "      <td>88</td>\n",
       "      <td>1620</td>\n",
       "      <td>1708</td>\n",
       "    </tr>\n",
       "  </tbody>\n",
       "</table>\n",
       "</div>"
      ],
      "text/plain": [
       "             dteday  season  yr  mnth  holiday  weekday  workingday  \\\n",
       "instant                                                               \n",
       "459      04-04-2019       2   1     4        0        3           1   \n",
       "395      30-01-2019       1   1     1        0        1           1   \n",
       "366      01-01-2019       1   1     1        0        0           0   \n",
       "477      22-04-2019       2   1     4        0        0           0   \n",
       "35       04-02-2018       1   0     2        0        5           1   \n",
       "\n",
       "         weathersit       temp     atemp      hum  windspeed  casual  \\\n",
       "instant                                                                \n",
       "459               1  22.208347  26.67250  46.9583  12.125325    1058   \n",
       "395               1  11.035847  13.13125  40.0833  14.458064     126   \n",
       "366               1  15.170000  18.78105  69.2500  12.875189     686   \n",
       "477               3  16.263347  19.47520  83.5417  23.084582     120   \n",
       "35                2   8.663464  11.42935  58.5217   8.565213      88   \n",
       "\n",
       "         registered   cnt  \n",
       "instant                    \n",
       "459            5378  6436  \n",
       "395            3498  3624  \n",
       "366            1608  2294  \n",
       "477             907  1027  \n",
       "35             1620  1708  "
      ]
     },
     "execution_count": 389,
     "metadata": {},
     "output_type": "execute_result"
    }
   ],
   "source": [
    "data.sample(5)"
   ]
  },
  {
   "cell_type": "code",
   "execution_count": 390,
   "id": "746444bc-6331-4787-b8f1-f6a02f0d1c01",
   "metadata": {},
   "outputs": [
    {
     "data": {
      "text/plain": [
       "(730, 15)"
      ]
     },
     "execution_count": 390,
     "metadata": {},
     "output_type": "execute_result"
    }
   ],
   "source": [
    "data.shape"
   ]
  },
  {
   "cell_type": "code",
   "execution_count": 391,
   "id": "66622904-47be-4a96-9362-645052b12fdd",
   "metadata": {},
   "outputs": [
    {
     "data": {
      "text/plain": [
       "Text(0.5, 1.0, 'number of bikes rented per season')"
      ]
     },
     "execution_count": 391,
     "metadata": {},
     "output_type": "execute_result"
    },
    {
     "data": {
      "image/png": "[encoded data removed]",
      "text/plain": [
       "<Figure size 600x600 with 1 Axes>"
      ]
     },
     "metadata": {},
     "output_type": "display_data"
    }
   ],
   "source": [
    "plt.figure(figsize=(6,6))\n",
    "sns.barplot(x='yr', y='cnt', hue='season', data=data, errorbar=None)\n",
    "\n",
    "plt.legend(loc='upper right', bbox_to_anchor=(1.2, 0.5))\n",
    "            \n",
    "plt.xlabel('year') \n",
    "plt.ylabel(\"Total number of bikes rented\")\n",
    "            \n",
    "plt.title(\"number of bikes rented per season\")"
   ]
  },
  {
   "cell_type": "code",
   "execution_count": 392,
   "id": "016a5187-4a7c-45e9-b264-54b3466ed8b1",
   "metadata": {},
   "outputs": [
    {
     "data": {
      "image/png": "[encoded data removed]",
      "text/plain": [
       "<Figure size 600x600 with 1 Axes>"
      ]
     },
     "metadata": {},
     "output_type": "display_data"
    }
   ],
   "source": [
    "plt.figure(figsize=(6,6))\n",
    "sns.barplot(x='mnth', y='cnt', hue='workingday', data=data)\n",
    "\n",
    "plt.xlabel('month')\n",
    "plt.ylabel('bikes rented')\n",
    "plt.title(\"number of rented bikes per mounth\")\n",
    "\n",
    "plt.show()"
   ]
  },
  {
   "cell_type": "code",
   "execution_count": 393,
   "id": "29365704-df6f-4413-8402-3e08ace76214",
   "metadata": {},
   "outputs": [
    {
     "data": {
      "text/plain": [
       "Text(0.5, 1.0, 'Effect of temperature on rented bikes')"
      ]
     },
     "execution_count": 393,
     "metadata": {},
     "output_type": "execute_result"
    },
    {
     "data": {
      "image/png": "[encoded data removed]",
      "text/plain": [
       "<Figure size 600x600 with 1 Axes>"
      ]
     },
     "metadata": {},
     "output_type": "display_data"
    }
   ],
   "source": [
    "plt.figure(figsize=(6,6))\n",
    "sns.scatterplot(x='temp', y='cnt', data=data)\n",
    "\n",
    "plt.xlabel(\"Temperature\")\n",
    "plt.ylabel(\"Bikes rented\")\n",
    "\n",
    "plt.title(\"Effect of temperature on rented bikes\")"
   ]
  },
  {
   "cell_type": "code",
   "execution_count": 394,
   "id": "c46e6b32-ae9d-4d45-9760-ba0734f1fc36",
   "metadata": {},
   "outputs": [
    {
     "data": {
      "text/html": [
       "<div>\n",
       "<style scoped>\n",
       "    .dataframe tbody tr th:only-of-type {\n",
       "        vertical-align: middle;\n",
       "    }\n",
       "\n",
       "    .dataframe tbody tr th {\n",
       "        vertical-align: top;\n",
       "    }\n",
       "\n",
       "    .dataframe thead th {\n",
       "        text-align: right;\n",
       "    }\n",
       "</style>\n",
       "<table border=\"1\" class=\"dataframe\">\n",
       "  <thead>\n",
       "    <tr style=\"text-align: right;\">\n",
       "      <th></th>\n",
       "      <th>dteday</th>\n",
       "      <th>yr</th>\n",
       "      <th>mnth</th>\n",
       "      <th>holiday</th>\n",
       "      <th>weekday</th>\n",
       "      <th>workingday</th>\n",
       "      <th>weathersit</th>\n",
       "      <th>temp</th>\n",
       "      <th>atemp</th>\n",
       "      <th>hum</th>\n",
       "      <th>windspeed</th>\n",
       "      <th>casual</th>\n",
       "      <th>registered</th>\n",
       "      <th>cnt</th>\n",
       "      <th>season_1</th>\n",
       "      <th>season_2</th>\n",
       "      <th>season_3</th>\n",
       "      <th>season_4</th>\n",
       "    </tr>\n",
       "    <tr>\n",
       "      <th>instant</th>\n",
       "      <th></th>\n",
       "      <th></th>\n",
       "      <th></th>\n",
       "      <th></th>\n",
       "      <th></th>\n",
       "      <th></th>\n",
       "      <th></th>\n",
       "      <th></th>\n",
       "      <th></th>\n",
       "      <th></th>\n",
       "      <th></th>\n",
       "      <th></th>\n",
       "      <th></th>\n",
       "      <th></th>\n",
       "      <th></th>\n",
       "      <th></th>\n",
       "      <th></th>\n",
       "      <th></th>\n",
       "    </tr>\n",
       "  </thead>\n",
       "  <tbody>\n",
       "    <tr>\n",
       "      <th>240</th>\n",
       "      <td>28-08-2018</td>\n",
       "      <td>0</td>\n",
       "      <td>8</td>\n",
       "      <td>0</td>\n",
       "      <td>0</td>\n",
       "      <td>0</td>\n",
       "      <td>1</td>\n",
       "      <td>28.989419</td>\n",
       "      <td>32.39795</td>\n",
       "      <td>56.1765</td>\n",
       "      <td>20.412153</td>\n",
       "      <td>1415</td>\n",
       "      <td>2919</td>\n",
       "      <td>4334</td>\n",
       "      <td>0</td>\n",
       "      <td>0</td>\n",
       "      <td>1</td>\n",
       "      <td>0</td>\n",
       "    </tr>\n",
       "    <tr>\n",
       "      <th>683</th>\n",
       "      <td>14-11-2019</td>\n",
       "      <td>1</td>\n",
       "      <td>11</td>\n",
       "      <td>0</td>\n",
       "      <td>3</td>\n",
       "      <td>1</td>\n",
       "      <td>1</td>\n",
       "      <td>11.855847</td>\n",
       "      <td>14.07815</td>\n",
       "      <td>55.2083</td>\n",
       "      <td>13.374875</td>\n",
       "      <td>373</td>\n",
       "      <td>5122</td>\n",
       "      <td>5495</td>\n",
       "      <td>0</td>\n",
       "      <td>0</td>\n",
       "      <td>0</td>\n",
       "      <td>1</td>\n",
       "    </tr>\n",
       "    <tr>\n",
       "      <th>583</th>\n",
       "      <td>06-08-2019</td>\n",
       "      <td>1</td>\n",
       "      <td>8</td>\n",
       "      <td>0</td>\n",
       "      <td>1</td>\n",
       "      <td>1</td>\n",
       "      <td>2</td>\n",
       "      <td>30.852500</td>\n",
       "      <td>35.51230</td>\n",
       "      <td>65.4167</td>\n",
       "      <td>8.666718</td>\n",
       "      <td>1233</td>\n",
       "      <td>5780</td>\n",
       "      <td>7013</td>\n",
       "      <td>0</td>\n",
       "      <td>0</td>\n",
       "      <td>1</td>\n",
       "      <td>0</td>\n",
       "    </tr>\n",
       "    <tr>\n",
       "      <th>97</th>\n",
       "      <td>07-04-2018</td>\n",
       "      <td>0</td>\n",
       "      <td>4</td>\n",
       "      <td>0</td>\n",
       "      <td>4</td>\n",
       "      <td>1</td>\n",
       "      <td>1</td>\n",
       "      <td>17.937500</td>\n",
       "      <td>21.68480</td>\n",
       "      <td>60.2917</td>\n",
       "      <td>10.874904</td>\n",
       "      <td>571</td>\n",
       "      <td>2570</td>\n",
       "      <td>3141</td>\n",
       "      <td>0</td>\n",
       "      <td>1</td>\n",
       "      <td>0</td>\n",
       "      <td>0</td>\n",
       "    </tr>\n",
       "    <tr>\n",
       "      <th>620</th>\n",
       "      <td>12-09-2019</td>\n",
       "      <td>1</td>\n",
       "      <td>9</td>\n",
       "      <td>0</td>\n",
       "      <td>3</td>\n",
       "      <td>1</td>\n",
       "      <td>1</td>\n",
       "      <td>24.565847</td>\n",
       "      <td>28.50375</td>\n",
       "      <td>57.7083</td>\n",
       "      <td>8.833682</td>\n",
       "      <td>1050</td>\n",
       "      <td>6820</td>\n",
       "      <td>7870</td>\n",
       "      <td>0</td>\n",
       "      <td>0</td>\n",
       "      <td>1</td>\n",
       "      <td>0</td>\n",
       "    </tr>\n",
       "  </tbody>\n",
       "</table>\n",
       "</div>"
      ],
      "text/plain": [
       "             dteday  yr  mnth  holiday  weekday  workingday  weathersit  \\\n",
       "instant                                                                   \n",
       "240      28-08-2018   0     8        0        0           0           1   \n",
       "683      14-11-2019   1    11        0        3           1           1   \n",
       "583      06-08-2019   1     8        0        1           1           2   \n",
       "97       07-04-2018   0     4        0        4           1           1   \n",
       "620      12-09-2019   1     9        0        3           1           1   \n",
       "\n",
       "              temp     atemp      hum  windspeed  casual  registered   cnt  \\\n",
       "instant                                                                      \n",
       "240      28.989419  32.39795  56.1765  20.412153    1415        2919  4334   \n",
       "683      11.855847  14.07815  55.2083  13.374875     373        5122  5495   \n",
       "583      30.852500  35.51230  65.4167   8.666718    1233        5780  7013   \n",
       "97       17.937500  21.68480  60.2917  10.874904     571        2570  3141   \n",
       "620      24.565847  28.50375  57.7083   8.833682    1050        6820  7870   \n",
       "\n",
       "         season_1  season_2  season_3  season_4  \n",
       "instant                                          \n",
       "240             0         0         1         0  \n",
       "683             0         0         0         1  \n",
       "583             0         0         1         0  \n",
       "97              0         1         0         0  \n",
       "620             0         0         1         0  "
      ]
     },
     "execution_count": 394,
     "metadata": {},
     "output_type": "execute_result"
    }
   ],
   "source": [
    "data = pd.get_dummies(data, columns=['season'])\n",
    "data.sample(5)"
   ]
  },
  {
   "cell_type": "code",
   "execution_count": 395,
   "id": "b9fceaaf-d498-4531-b167-889cdaa5b3a7",
   "metadata": {},
   "outputs": [
    {
     "data": {
      "text/html": [
       "<div>\n",
       "<style scoped>\n",
       "    .dataframe tbody tr th:only-of-type {\n",
       "        vertical-align: middle;\n",
       "    }\n",
       "\n",
       "    .dataframe tbody tr th {\n",
       "        vertical-align: top;\n",
       "    }\n",
       "\n",
       "    .dataframe thead th {\n",
       "        text-align: right;\n",
       "    }\n",
       "</style>\n",
       "<table border=\"1\" class=\"dataframe\">\n",
       "  <thead>\n",
       "    <tr style=\"text-align: right;\">\n",
       "      <th></th>\n",
       "      <th>cnt</th>\n",
       "    </tr>\n",
       "    <tr>\n",
       "      <th>instant</th>\n",
       "      <th></th>\n",
       "    </tr>\n",
       "  </thead>\n",
       "  <tbody>\n",
       "    <tr>\n",
       "      <th>1</th>\n",
       "      <td>985</td>\n",
       "    </tr>\n",
       "    <tr>\n",
       "      <th>2</th>\n",
       "      <td>801</td>\n",
       "    </tr>\n",
       "    <tr>\n",
       "      <th>3</th>\n",
       "      <td>1349</td>\n",
       "    </tr>\n",
       "    <tr>\n",
       "      <th>4</th>\n",
       "      <td>1562</td>\n",
       "    </tr>\n",
       "    <tr>\n",
       "      <th>5</th>\n",
       "      <td>1600</td>\n",
       "    </tr>\n",
       "    <tr>\n",
       "      <th>...</th>\n",
       "      <td>...</td>\n",
       "    </tr>\n",
       "    <tr>\n",
       "      <th>726</th>\n",
       "      <td>2114</td>\n",
       "    </tr>\n",
       "    <tr>\n",
       "      <th>727</th>\n",
       "      <td>3095</td>\n",
       "    </tr>\n",
       "    <tr>\n",
       "      <th>728</th>\n",
       "      <td>1341</td>\n",
       "    </tr>\n",
       "    <tr>\n",
       "      <th>729</th>\n",
       "      <td>1796</td>\n",
       "    </tr>\n",
       "    <tr>\n",
       "      <th>730</th>\n",
       "      <td>2729</td>\n",
       "    </tr>\n",
       "  </tbody>\n",
       "</table>\n",
       "<p>730 rows × 1 columns</p>\n",
       "</div>"
      ],
      "text/plain": [
       "          cnt\n",
       "instant      \n",
       "1         985\n",
       "2         801\n",
       "3        1349\n",
       "4        1562\n",
       "5        1600\n",
       "...       ...\n",
       "726      2114\n",
       "727      3095\n",
       "728      1341\n",
       "729      1796\n",
       "730      2729\n",
       "\n",
       "[730 rows x 1 columns]"
      ]
     },
     "execution_count": 395,
     "metadata": {},
     "output_type": "execute_result"
    }
   ],
   "source": [
    "feature_columns=['registered', 'holiday', 'weekday',\n",
    "                 'weathersit', 'temp', 'atemp',\n",
    "                 'season_1', 'season_2', 'season_3',\n",
    "                 'season_4']\n",
    "features = data[feature_columns]\n",
    "target = data[['cnt']]\n",
    "target"
   ]
  },
  {
   "cell_type": "code",
   "execution_count": 396,
   "id": "edbc9895-5b1c-42fa-aedf-4a42b779ca03",
   "metadata": {},
   "outputs": [],
   "source": [
    "from sklearn.model_selection import train_test_split"
   ]
  },
  {
   "cell_type": "code",
   "execution_count": 397,
   "id": "fa294c4a-2a7f-4d83-88be-7716da6c11b5",
   "metadata": {},
   "outputs": [],
   "source": [
    "X_train, x_test, Y_train, y_test = train_test_split(features,\n",
    "                                                    target,\n",
    "                                                    test_size=0.2)\n",
    "                                                    "
   ]
  },
  {
   "cell_type": "code",
   "execution_count": 398,
   "id": "a91b965c-761c-4fa4-bb66-d498e5318d94",
   "metadata": {},
   "outputs": [],
   "source": [
    "X_train_tensor = torch.tensor(X_train.values, dtype=torch.float)\n",
    "Y_train_tensor = torch.tensor(Y_train.values, dtype=torch.float)\n",
    "\n",
    "x_test_tensor = torch.tensor(x_test.values, dtype=torch.float)\n",
    "y_test_tensor = torch.tensor(y_test.values, dtype=torch.float)"
   ]
  },
  {
   "cell_type": "code",
   "execution_count": 399,
   "id": "4f4e4df1-38fa-4374-b51a-a858813742aa",
   "metadata": {},
   "outputs": [
    {
     "data": {
      "text/plain": [
       "torch.Size([584, 10])"
      ]
     },
     "execution_count": 399,
     "metadata": {},
     "output_type": "execute_result"
    }
   ],
   "source": [
    "X_train_tensor.shape"
   ]
  },
  {
   "cell_type": "code",
   "execution_count": 400,
   "id": "0f06a37d-7f0a-41b8-9a08-4cce68451e82",
   "metadata": {},
   "outputs": [
    {
     "data": {
      "text/plain": [
       "torch.Size([146, 1])"
      ]
     },
     "execution_count": 400,
     "metadata": {},
     "output_type": "execute_result"
    }
   ],
   "source": [
    "y_test_tensor.shape"
   ]
  },
  {
   "cell_type": "code",
   "execution_count": 401,
   "id": "94c31c11-b75e-4ed6-89ec-1259fa5154a4",
   "metadata": {},
   "outputs": [],
   "source": [
    "import torch.utils.data as data_utils"
   ]
  },
  {
   "cell_type": "code",
   "execution_count": 402,
   "id": "e6c5a95d-1c5d-40e7-b31b-ee0e7fafc06c",
   "metadata": {},
   "outputs": [],
   "source": [
    "train_data = data_utils.TensorDataset(X_train_tensor, Y_train_tensor)"
   ]
  },
  {
   "cell_type": "code",
   "execution_count": 403,
   "id": "ef1f3702-8b87-4591-b9d3-81696513323d",
   "metadata": {},
   "outputs": [],
   "source": [
    "train_loader = data_utils.DataLoader(train_data, batch_size=100, shuffle=True)"
   ]
  },
  {
   "cell_type": "code",
   "execution_count": 404,
   "id": "afcb1e01-de9f-4687-89ce-0008e964d04d",
   "metadata": {},
   "outputs": [
    {
     "data": {
      "text/plain": [
       "6"
      ]
     },
     "execution_count": 404,
     "metadata": {},
     "output_type": "execute_result"
    }
   ],
   "source": [
    "len(train_loader)"
   ]
  },
  {
   "cell_type": "code",
   "execution_count": 405,
   "id": "ab201bf6-37bd-4ce1-99ca-d943a127c13c",
   "metadata": {},
   "outputs": [],
   "source": [
    "features_batch, targets_batch = next(iter(train_loader))"
   ]
  },
  {
   "cell_type": "code",
   "execution_count": 406,
   "id": "e32be457-ac76-40d8-8295-3f4f29639055",
   "metadata": {},
   "outputs": [
    {
     "data": {
      "text/plain": [
       "torch.Size([100, 10])"
      ]
     },
     "execution_count": 406,
     "metadata": {},
     "output_type": "execute_result"
    }
   ],
   "source": [
    "features_batch.shape"
   ]
  },
  {
   "cell_type": "code",
   "execution_count": 407,
   "id": "8579a980-74e6-4780-abf1-2c14b2ecff2a",
   "metadata": {},
   "outputs": [
    {
     "data": {
      "text/plain": [
       "torch.Size([100, 1])"
      ]
     },
     "execution_count": 407,
     "metadata": {},
     "output_type": "execute_result"
    }
   ],
   "source": [
    "targets_batch.shape"
   ]
  },
  {
   "cell_type": "code",
   "execution_count": 408,
   "id": "02fce680-4405-4611-a69d-74d4219c768f",
   "metadata": {},
   "outputs": [],
   "source": [
    "input_size = X_train_tensor.shape[1]\n",
    "output_size = 1\n",
    "hidden_layer_size = 10"
   ]
  },
  {
   "cell_type": "code",
   "execution_count": 409,
   "id": "d2521af4-e6f7-4119-8e51-8cb072c5ed6b",
   "metadata": {},
   "outputs": [],
   "source": [
    "loss_fn = torch.nn.MSELoss()"
   ]
  },
  {
   "cell_type": "code",
   "execution_count": 3,
   "id": "aa63023a-62e8-4aa7-96ed-0e96f88f8998",
   "metadata": {},
   "outputs": [
    {
     "ename": "NameError",
     "evalue": "name 'torch' is not defined",
     "output_type": "error",
     "traceback": [
      "\u001b[1;31m---------------------------------------------------------------------------\u001b[0m",
      "\u001b[1;31mNameError\u001b[0m                                 Traceback (most recent call last)",
      "Cell \u001b[1;32mIn[3], line 1\u001b[0m\n\u001b[1;32m----> 1\u001b[0m model \u001b[39m=\u001b[39m torch\u001b[39m.\u001b[39mnn\u001b[39m.\u001b[39mSequential(torch\u001b[39m.\u001b[39mnn\u001b[39m.\u001b[39mLinear(input_size, hidden_layer_size),\n\u001b[0;32m      2\u001b[0m                             torch\u001b[39m.\u001b[39mnn\u001b[39m.\u001b[39mLinear(hidden_layer_size, output_size))\n",
      "\u001b[1;31mNameError\u001b[0m: name 'torch' is not defined"
     ]
    }
   ],
   "source": [
    "model = torch.nn.Sequential(torch.nn.Linear(input_size, hidden_layer_size),\n",
    "                            torch.nn.Linear(hidden_layer_size, output_size))"
   ]
  },
  {
   "cell_type": "code",
   "execution_count": 1,
   "id": "756cc058-d2ad-4c21-8a57-554fd1101ff7",
   "metadata": {},
   "outputs": [
    {
     "ename": "NameError",
     "evalue": "name 'hl' is not defined",
     "output_type": "error",
     "traceback": [
      "\u001b[1;31m---------------------------------------------------------------------------\u001b[0m",
      "\u001b[1;31mNameError\u001b[0m                                 Traceback (most recent call last)",
      "Cell \u001b[1;32mIn[1], line 1\u001b[0m\n\u001b[1;32m----> 1\u001b[0m hl\u001b[39m.\u001b[39mbuild_graph(model, torch\u001b[39m.\u001b[39mzeros([hidden_layer_size, input_size]))\u001b[39m.\u001b[39mbuild_dot()\n",
      "\u001b[1;31mNameError\u001b[0m: name 'hl' is not defined"
     ]
    }
   ],
   "source": [
    "hl.build_graph(model, torch.zeros([hidden_layer_size, input_size])).build_dot()"
   ]
  },
  {
   "cell_type": "code",
   "execution_count": 412,
   "id": "70434975-000a-4e80-b3a3-74d0031ebfa3",
   "metadata": {},
   "outputs": [],
   "source": [
    "learning_rate = 0.001\n",
    "optimizer = torch.optim.Adam(model.parameters(), lr=learning_rate)"
   ]
  },
  {
   "cell_type": "code",
   "execution_count": 413,
   "id": "d1c8fa47-c17f-4d34-b5e4-079fc6ded923",
   "metadata": {},
   "outputs": [
    {
     "name": "stdout",
     "output_type": "stream",
     "text": [
      "Epoch [1]/[0], Step: 1/6, Loss: 20742250.0000\n",
      "Epoch [1]/[0], Step: 2/6, Loss: 22111504.0000\n",
      "Epoch [1]/[0], Step: 3/6, Loss: 25620258.0000\n",
      "Epoch [1]/[0], Step: 4/6, Loss: 25280558.0000\n",
      "Epoch [1]/[0], Step: 5/6, Loss: 25333190.0000\n",
      "Epoch [1]/[0], Step: 6/6, Loss: 25270378.0000\n",
      "Epoch [2001]/[2000], Step: 1/6, Loss: 21980062.0000\n",
      "Epoch [2001]/[2000], Step: 2/6, Loss: 24293634.0000\n",
      "Epoch [2001]/[2000], Step: 3/6, Loss: 24940288.0000\n",
      "Epoch [2001]/[2000], Step: 4/6, Loss: 23908580.0000\n",
      "Epoch [2001]/[2000], Step: 5/6, Loss: 23543354.0000\n",
      "Epoch [2001]/[2000], Step: 6/6, Loss: 19811760.0000\n",
      "Epoch [4001]/[4000], Step: 1/6, Loss: 21872578.0000\n",
      "Epoch [4001]/[4000], Step: 2/6, Loss: 21233772.0000\n",
      "Epoch [4001]/[4000], Step: 3/6, Loss: 21304460.0000\n",
      "Epoch [4001]/[4000], Step: 4/6, Loss: 23676080.0000\n",
      "Epoch [4001]/[4000], Step: 5/6, Loss: 22843284.0000\n",
      "Epoch [4001]/[4000], Step: 6/6, Loss: 23217744.0000\n",
      "Epoch [6001]/[6000], Step: 1/6, Loss: 24696012.0000\n",
      "Epoch [6001]/[6000], Step: 2/6, Loss: 19743856.0000\n",
      "Epoch [6001]/[6000], Step: 3/6, Loss: 20175344.0000\n",
      "Epoch [6001]/[6000], Step: 4/6, Loss: 24078574.0000\n",
      "Epoch [6001]/[6000], Step: 5/6, Loss: 19873854.0000\n",
      "Epoch [6001]/[6000], Step: 6/6, Loss: 20354770.0000\n",
      "Epoch [8001]/[8000], Step: 1/6, Loss: 21360472.0000\n",
      "Epoch [8001]/[8000], Step: 2/6, Loss: 19309586.0000\n",
      "Epoch [8001]/[8000], Step: 3/6, Loss: 21536768.0000\n",
      "Epoch [8001]/[8000], Step: 4/6, Loss: 20945872.0000\n",
      "Epoch [8001]/[8000], Step: 5/6, Loss: 22962566.0000\n",
      "Epoch [8001]/[8000], Step: 6/6, Loss: 17726690.0000\n",
      "Epoch [10001]/[10000], Step: 1/6, Loss: 19740908.0000\n",
      "Epoch [10001]/[10000], Step: 2/6, Loss: 20093190.0000\n",
      "Epoch [10001]/[10000], Step: 3/6, Loss: 18279664.0000\n",
      "Epoch [10001]/[10000], Step: 4/6, Loss: 20661704.0000\n",
      "Epoch [10001]/[10000], Step: 5/6, Loss: 18143866.0000\n",
      "Epoch [10001]/[10000], Step: 6/6, Loss: 23254538.0000\n"
     ]
    }
   ],
   "source": [
    "total_step = len(train_loader)\n",
    "\n",
    "num_epochs = 10000\n",
    "\n",
    "for epoch in range(num_epochs + 1):\n",
    "    for i, (features, target) in enumerate(train_loader):\n",
    "        \n",
    "        output = model(features)\n",
    "        loss = loss_fn(output, target)\n",
    "        \n",
    "        optimizer.zero_grad()\n",
    "        \n",
    "        loss.backward()\n",
    "        \n",
    "        optimizer.step()\n",
    "        \n",
    "        if epoch % 2000 == 0:\n",
    "            print(f\"Epoch [{epoch + 1}]/[{epoch}], Step: {i+1}/{total_step}, Loss: {loss.item():.4f}\") \n",
    "            "
   ]
  },
  {
   "cell_type": "code",
   "execution_count": 414,
   "id": "2feec007-3724-4d29-bc5d-900b1d15805c",
   "metadata": {},
   "outputs": [],
   "source": [
    "model.eval()\n",
    "\n",
    "with torch.no_grad():\n",
    "    y_pred = model(x_test_tensor)"
   ]
  },
  {
   "cell_type": "code",
   "execution_count": 415,
   "id": "c853a631-999e-442f-91c9-ddeda01d8c79",
   "metadata": {},
   "outputs": [
    {
     "data": {
      "text/plain": [
       "registered    5038.000000\n",
       "holiday          0.000000\n",
       "weekday          6.000000\n",
       "weathersit       1.000000\n",
       "temp            27.811653\n",
       "atemp           30.903550\n",
       "season_1         0.000000\n",
       "season_2         0.000000\n",
       "season_3         1.000000\n",
       "season_4         0.000000\n",
       "Name: 595, dtype: float64"
      ]
     },
     "execution_count": 415,
     "metadata": {},
     "output_type": "execute_result"
    }
   ],
   "source": [
    "sample = x_test.iloc[21]\n",
    "sample"
   ]
  },
  {
   "cell_type": "code",
   "execution_count": 416,
   "id": "85fe6d11-7467-4292-ae11-d6af2200bf3c",
   "metadata": {},
   "outputs": [
    {
     "data": {
      "text/plain": [
       "tensor([5.0380e+03, 0.0000e+00, 6.0000e+00, 1.0000e+00, 2.7812e+01, 3.0904e+01,\n",
       "        0.0000e+00, 0.0000e+00, 1.0000e+00, 0.0000e+00])"
      ]
     },
     "execution_count": 416,
     "metadata": {},
     "output_type": "execute_result"
    }
   ],
   "source": [
    "sample_tensor = torch.tensor(sample, dtype=torch.float)\n",
    "sample_tensor"
   ]
  },
  {
   "cell_type": "code",
   "execution_count": 417,
   "id": "f9e8aa02-ebc3-4b45-a736-9f3a6db4f50c",
   "metadata": {},
   "outputs": [
    {
     "name": "stdout",
     "output_type": "stream",
     "text": [
      "Predicted:  479.75091552734375\n",
      "Actual:  cnt    7865\n",
      "Name: 595, dtype: int64\n"
     ]
    }
   ],
   "source": [
    "with torch.no_grad():\n",
    "    y_pred = model(sample_tensor)\n",
    "    \n",
    "print(\"Predicted: \", y_pred.item())\n",
    "print(\"Actual: \", y_test.iloc[21])"
   ]
  },
  {
   "cell_type": "code",
   "execution_count": 418,
   "id": "76dc3060-ca4e-46d3-aae4-9c88d1b95941",
   "metadata": {},
   "outputs": [],
   "source": [
    "with torch.no_grad():\n",
    "    y_pred_tensor = model(x_test_tensor)"
   ]
  },
  {
   "cell_type": "code",
   "execution_count": 419,
   "id": "1261d3f0-28c9-40aa-944d-f0a69594758f",
   "metadata": {},
   "outputs": [
    {
     "data": {
      "text/plain": [
       "(146, 1)"
      ]
     },
     "execution_count": 419,
     "metadata": {},
     "output_type": "execute_result"
    }
   ],
   "source": [
    "y_pred = y_pred_tensor.detach().numpy()\n",
    "y_pred.shape"
   ]
  },
  {
   "cell_type": "code",
   "execution_count": 420,
   "id": "fbdefe9c-a52b-426b-b220-5ab49a2ffc47",
   "metadata": {},
   "outputs": [
    {
     "data": {
      "text/plain": [
       "(146, 1)"
      ]
     },
     "execution_count": 420,
     "metadata": {},
     "output_type": "execute_result"
    }
   ],
   "source": [
    "y_test.values.shape"
   ]
  },
  {
   "cell_type": "code",
   "execution_count": 421,
   "id": "0844ae0c-3f02-42c9-8d15-76475f01e94c",
   "metadata": {},
   "outputs": [
    {
     "data": {
      "text/html": [
       "<div>\n",
       "<style scoped>\n",
       "    .dataframe tbody tr th:only-of-type {\n",
       "        vertical-align: middle;\n",
       "    }\n",
       "\n",
       "    .dataframe tbody tr th {\n",
       "        vertical-align: top;\n",
       "    }\n",
       "\n",
       "    .dataframe thead th {\n",
       "        text-align: right;\n",
       "    }\n",
       "</style>\n",
       "<table border=\"1\" class=\"dataframe\">\n",
       "  <thead>\n",
       "    <tr style=\"text-align: right;\">\n",
       "      <th></th>\n",
       "      <th>actual</th>\n",
       "      <th>predicted</th>\n",
       "    </tr>\n",
       "  </thead>\n",
       "  <tbody>\n",
       "    <tr>\n",
       "      <th>136</th>\n",
       "      <td>5501</td>\n",
       "      <td>479.750885</td>\n",
       "    </tr>\n",
       "    <tr>\n",
       "      <th>82</th>\n",
       "      <td>7403</td>\n",
       "      <td>479.750885</td>\n",
       "    </tr>\n",
       "    <tr>\n",
       "      <th>48</th>\n",
       "      <td>4826</td>\n",
       "      <td>479.750885</td>\n",
       "    </tr>\n",
       "    <tr>\n",
       "      <th>85</th>\n",
       "      <td>1406</td>\n",
       "      <td>479.750885</td>\n",
       "    </tr>\n",
       "    <tr>\n",
       "      <th>73</th>\n",
       "      <td>5115</td>\n",
       "      <td>479.750885</td>\n",
       "    </tr>\n",
       "    <tr>\n",
       "      <th>140</th>\n",
       "      <td>6133</td>\n",
       "      <td>479.750885</td>\n",
       "    </tr>\n",
       "    <tr>\n",
       "      <th>12</th>\n",
       "      <td>6830</td>\n",
       "      <td>479.750885</td>\n",
       "    </tr>\n",
       "    <tr>\n",
       "      <th>51</th>\n",
       "      <td>7273</td>\n",
       "      <td>479.750885</td>\n",
       "    </tr>\n",
       "    <tr>\n",
       "      <th>101</th>\n",
       "      <td>3214</td>\n",
       "      <td>479.750885</td>\n",
       "    </tr>\n",
       "    <tr>\n",
       "      <th>144</th>\n",
       "      <td>4127</td>\n",
       "      <td>479.750916</td>\n",
       "    </tr>\n",
       "  </tbody>\n",
       "</table>\n",
       "</div>"
      ],
      "text/plain": [
       "     actual   predicted\n",
       "136    5501  479.750885\n",
       "82     7403  479.750885\n",
       "48     4826  479.750885\n",
       "85     1406  479.750885\n",
       "73     5115  479.750885\n",
       "140    6133  479.750885\n",
       "12     6830  479.750885\n",
       "51     7273  479.750885\n",
       "101    3214  479.750885\n",
       "144    4127  479.750916"
      ]
     },
     "execution_count": 421,
     "metadata": {},
     "output_type": "execute_result"
    }
   ],
   "source": [
    "compare_df = pd.DataFrame({'actual': np.squeeze(y_test.values), 'predicted': np.squeeze(y_pred)})\n",
    "compare_df.sample(10)"
   ]
  },
  {
   "cell_type": "code",
   "execution_count": 422,
   "id": "4b295faf-c4ee-4277-ac04-0a5820c1134d",
   "metadata": {},
   "outputs": [
    {
     "data": {
      "text/plain": [
       "-4.393344332848307"
      ]
     },
     "execution_count": 422,
     "metadata": {},
     "output_type": "execute_result"
    }
   ],
   "source": [
    "sklearn.metrics.r2_score(y_test, y_pred)"
   ]
  },
  {
   "cell_type": "code",
   "execution_count": 423,
   "id": "6fcf6c16-5ebb-4bac-a7aa-b44413ab4f35",
   "metadata": {},
   "outputs": [
    {
     "data": {
      "image/png": "[encoded data removed]",
      "text/plain": [
       "<Figure size 600x600 with 1 Axes>"
      ]
     },
     "metadata": {},
     "output_type": "display_data"
    }
   ],
   "source": [
    "plt.figure(figsize=(6,6))\n",
    "\n",
    "plt.scatter(y_pred, y_test.values, s=100)\n",
    "\n",
    "plt.xlabel('Actual values')\n",
    "plt.ylabel('Predicted values')\n",
    "\n",
    "plt.show()"
   ]
  }
 ],
 "metadata": {
  "kernelspec": {
   "display_name": "Python 3.10.4 64-bit",
   "language": "python",
   "name": "python3"
  },
  "language_info": {
   "codemirror_mode": {
    "name": "ipython",
    "version": 3
   },
   "file_extension": ".py",
   "mimetype": "text/x-python",
   "name": "python",
   "nbconvert_exporter": "python",
   "pygments_lexer": "ipython3",
   "version": "3.10.4"
  },
  "vscode": {
   "interpreter": {
    "hash": "e87f176098f3564c05744554ec33519e855f039521d1ec2f30a22453b69058cc"
   }
  }
 },
 "nbformat": 4,
 "nbformat_minor": 5
}
